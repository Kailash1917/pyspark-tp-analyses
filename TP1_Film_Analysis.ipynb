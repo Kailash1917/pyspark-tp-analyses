{
  "nbformat": 4,
  "nbformat_minor": 0,
  "metadata": {
    "colab": {
      "provenance": [],
      "authorship_tag": "ABX9TyPphbRUAcSeu9ksS8wDo+0s",
      "include_colab_link": true
    },
    "kernelspec": {
      "name": "python3",
      "display_name": "Python 3"
    },
    "language_info": {
      "name": "python"
    }
  },
  "cells": [
    {
      "cell_type": "markdown",
      "metadata": {
        "id": "view-in-github",
        "colab_type": "text"
      },
      "source": [
        "<a href=\"https://colab.research.google.com/github/Kailash1917/pyspark-tp-analyses/blob/main/Untitled0.ipynb\" target=\"_parent\"><img src=\"https://colab.research.google.com/assets/colab-badge.svg\" alt=\"Open In Colab\"/></a>"
      ]
    },
    {
      "cell_type": "code",
      "execution_count": null,
      "metadata": {
        "id": "hBSrcCn4bT8F"
      },
      "outputs": [],
      "source": []
    },
    {
      "cell_type": "markdown",
      "source": [
        "# Importer les bibliothèques nécessaires\n",
        "from pyspark.sql import SparkSession\n",
        "from pyspark.sql.functions import to_date\n",
        "\n",
        "# 1. Créer une session Spark\n",
        "spark = SparkSession.builder \\\n",
        "    .appName(\"Analyse de films\") \\\n",
        "    .getOrCreate()\n",
        "\n",
        "# 2. Indiquer le chemin du fichier CSV\n",
        "file_path = \"/Rotten Tomatoes Movies.csv\"\n",
        "\n",
        "# 3. Charger les données depuis le fichier CSV\n",
        "df = spark.read.option(\"header\", \"true\").option(\"inferSchema\", \"true\").csv(file_path)\n",
        "\n",
        "# Vérification des colonnes disponibles\n",
        "print(\"Colonnes disponibles:\", df.columns)\n",
        "\n",
        "# 4. Nettoyer les données : supprimer les lignes vides\n",
        "df_cleaned = df.na.drop()\n",
        "\n",
        "# 5. Convertir la colonne \"in_theaters_date\" en format date\n",
        "df_cleaned = df_cleaned.withColumn(\"in_theaters_date\", to_date(\"in_theaters_date\", \"yyyy-MM-dd\"))\n",
        "\n",
        "# Afficher les premières lignes après nettoyage\n",
        "df_cleaned.show(5)\n",
        "\n",
        "# 6. Compter combien de films il y a dans chaque genre\n",
        "df_genre_count = df_cleaned.groupBy(\"genre\").count()\n",
        "df_genre_count.show()\n",
        "\n",
        "# 7. Filtrer les films avec une note Tomatometer supérieure à 80\n",
        "df_high_tomatometer = df_cleaned.filter(df_cleaned[\"tomatometer_rating\"] > 80)\n",
        "df_high_tomatometer.show(5)\n",
        "\n",
        "# 8. Calculer la durée moyenne des films\n",
        "df_avg_runtime = df_cleaned.agg({\"runtime_in_minutes\": \"avg\"})\n",
        "df_avg_runtime.show()\n",
        "\n",
        "# 9. Compter combien de films il y a pour chaque studio\n",
        "df_studio_count = df_cleaned.groupBy(\"studio_name\").count()\n",
        "df_studio_count.show()\n",
        "\n",
        "# 10. Compter combien de films il y a pour chaque directeur\n",
        "df_director = df_cleaned.groupBy(\"directors\").count()\n",
        "df_director.show()\n",
        "\n",
        "# 11. Terminer la session Spark\n",
        "spark.stop()\n"
      ],
      "metadata": {
        "id": "cVwZpWWhbVLk"
      }
    }
  ]
}
